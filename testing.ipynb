{
 "cells": [
  {
   "cell_type": "code",
   "execution_count": 28,
   "metadata": {},
   "outputs": [],
   "source": [
    "from part1_nn_lib import *\n",
    "import numpy as np"
   ]
  },
  {
   "cell_type": "code",
   "execution_count": 29,
   "metadata": {},
   "outputs": [
    {
     "data": {
      "text/plain": [
       "(784, 234)"
      ]
     },
     "execution_count": 29,
     "metadata": {},
     "output_type": "execute_result"
    }
   ],
   "source": [
    "xavier_init = xavier_init((784, 234))\n",
    "xavier_init.shape"
   ]
  },
  {
   "cell_type": "code",
   "execution_count": 30,
   "metadata": {},
   "outputs": [],
   "source": [
    "batch_size = 1\n",
    "n_in = 10\n",
    "n_out = 5\n",
    "ll = LinearLayer(n_in, n_out)\n",
    "x = np.random.rand(batch_size, n_in)\n",
    "a = ll.forward(x)\n",
    "ab"
   ]
  },
  {
   "cell_type": "code",
   "execution_count": 12,
   "metadata": {},
   "outputs": [
    {
     "name": "stdout",
     "output_type": "stream",
     "text": [
      "1 100 256 0.1 0.1 [64, 64]\n"
     ]
    }
   ],
   "source": [
    "import pickle\n",
    "from  part2_house_value_regression import *\n",
    "\n",
    "# Open the pickle file and load the model\n",
    "with open('part2_model.pickle', 'rb') as f:\n",
    "    model = pickle.load(f)\n",
    "\n",
    "print(model.output_size,\n",
    "      model.nb_epochs ,\n",
    "      model.batch_size,\n",
    "      model.learning_rate,\n",
    "      model.dropout_p,\n",
    "      model.hidden_layer_sizes)\n"
   ]
  },
  {
   "cell_type": "code",
   "execution_count": null,
   "metadata": {},
   "outputs": [],
   "source": []
  }
 ],
 "metadata": {
  "kernelspec": {
   "display_name": "Python 3",
   "language": "python",
   "name": "python3"
  },
  "language_info": {
   "codemirror_mode": {
    "name": "ipython",
    "version": 3
   },
   "file_extension": ".py",
   "mimetype": "text/x-python",
   "name": "python",
   "nbconvert_exporter": "python",
   "pygments_lexer": "ipython3",
   "version": "3.10.12"
  }
 },
 "nbformat": 4,
 "nbformat_minor": 2
}
